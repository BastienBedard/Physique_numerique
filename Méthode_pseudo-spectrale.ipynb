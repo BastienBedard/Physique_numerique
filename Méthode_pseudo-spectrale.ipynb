{
  "cells": [
    {
      "attachments": {},
      "cell_type": "markdown",
      "metadata": {
        "id": "8AVOoFWG7X4l"
      },
      "source": [
        "#### <div style=\"text-align: right\">PHY-3500</div>\n",
        "# **<center>PROJET | MÉTHODE PSEUDO-SEPCTRALE : PROPAGATION D'UN PAQUET D'ONDE</center>**\n",
        "## <center>Bastien Bédard, Camille Poitras et Jean-Simon Côté</center>\n",
        "### <center>*10 mai 2023*</center>\n",
        "---"
      ]
    },
    {
      "cell_type": "code",
      "execution_count": 1,
      "metadata": {
        "id": "s9Cepo_U70aV"
      },
      "outputs": [],
      "source": [
        "import cv2\n",
        "import matplotlib.colors as mcolors\n",
        "import matplotlib.patches as patches\n",
        "import matplotlib.pyplot as plt\n",
        "import matplotlib.cm as cm\n",
        "import numpy as np\n",
        "from numpy.fft import fft, ifft, fft2, ifft2\n",
        "import os\n",
        "import pandas as pd\n",
        "import pathlib\n",
        "from PIL import Image\n",
        "import scipy.constants as cte\n",
        "from scipy.special import factorial as facto\n",
        "import time\n",
        "import imageio\n",
        "from moviepy.editor import ImageSequenceClip\n",
        "import matplotlib.colors as mcolors\n",
        "\n",
        "plt.rcParams.update({'font.size': 16})\n",
        "pd.set_option(\"display.precision\", 16)\n",
        "\n",
        "# Définir le rayon de Bohr\n",
        "a0 = cte.physical_constants[\"Bohr radius\"][0]"
      ]
    },
    {
      "cell_type": "code",
      "execution_count": 2,
      "metadata": {
        "id": "ITgHZerT74CC"
      },
      "outputs": [],
      "source": [
        "# Créer une cmap de transparence\n",
        "cmap_trans = mcolors.LinearSegmentedColormap.from_list(\"\", [\"#FF000000\",\n",
        "                                                            'black'])\n",
        "# Créer une cmap personnalisée en combinant deux cmap existante\n",
        "colors1 = plt.cm.hot_r(np.linspace(0.82, 1, 40))\n",
        "colors2 = plt.cm.jet(np.linspace(0, 1, 158))\n",
        "\n",
        "# Combine les deux cmap pour en faire une nouvelle\n",
        "colors = np.vstack((colors2, colors1))\n",
        "mymap = mcolors.LinearSegmentedColormap.from_list('my_colormap', colors)\n",
        "\n",
        "cblue = '#14385A'\n",
        "cyellow = '#FEB703'\n",
        "corange = '#FB8500'"
      ]
    },
    {
      "attachments": {},
      "cell_type": "markdown",
      "metadata": {
        "id": "qI4wFLYbMAwy"
      },
      "source": [
        "## 1. Unidimensionnel\n",
        "La condition initiale d'un paquet d'onde en une dimension $\\psi(x, 0)$ peut être décrite par la relation suivante:\n",
        "\\begin{equation}\n",
        "    \\psi(x,0) = \\left[\\frac{1}{2\\pi(\\Delta x)^2}\\right]^{1/4}\\text{exp}\\left({ik_0x - \\frac{(x-x_0)^2}{4(\\Delta x)^2}}\\right)\n",
        "\\end{equation}\n",
        "\n",
        "\\begin{equation}\n",
        "\\psi(x,t) \\approx e^{-i\\mathbf{\\hat{V}}\\Delta t/2\\hbar}\\mathcal{F}^{-1}\\left[e^{-iT(k)\\Delta t/\\hbar}\\mathcal{F}\\left[e^{-i\\mathbf{\\hat{V}}\\Delta t/2\\hbar}\\psi(x,t_0)\\right]\\right]\n",
        "\\end{equation}"
      ]
    },
    {
      "attachments": {},
      "cell_type": "markdown",
      "metadata": {
        "id": "rD28V-5TT2qK"
      },
      "source": [
        "Afin d'implémenter numériquement la méthode pseudo-spectral, différentes classes et fonctions ont été implémentées. D'abord, la classe `Param` permet d'initialiser un object lié aux conditions initiales du système simulé. C'est-à-dire la dimension du système `xmax`, le nombre de points pour les calculs `nb`, le pas de temps entre chaque calcul d'évolution temporelle `dt` ainsi que la précision désiré sur ce pas de temps `precision`. De plus, cette classe initialise quelques paramètres de la gaussienne initiale soit sa position `x0`, sa largeur `largeur` et son nombre d'onde `k0`. "
      ]
    },
    {
      "cell_type": "code",
      "execution_count": 3,
      "metadata": {
        "id": "Klt-YJJJkCEH"
      },
      "outputs": [],
      "source": [
        "class Param:\n",
        "    \"\"\" Classe d'initialisation des conditions initiales \"\"\"\n",
        "    def __init__(self, xmax=a0, nb=500, dt=0.05, precision=500, x0=0,\n",
        "                 largeur=a0/30, k0=0):\n",
        "        self.xmax = xmax\n",
        "        self.nb = nb\n",
        "        self.dt = dt\n",
        "        self.precision = precision\n",
        "        self.x0 = x0\n",
        "        self.largeur = largeur\n",
        "        self.k0 = k0\n",
        "        self.x = np.arange(-xmax+xmax/nb, xmax, 2*xmax/nb)\n",
        "        self.k = np.abs(np.concatenate((np.arange(0, np.ceil(nb/2),\n",
        "                    dtype=complex), np.arange(-np.floor(nb/2), 0, \n",
        "                                    dtype=complex))) * np.pi / xmax)"
      ]
    },
    {
      "attachments": {},
      "cell_type": "markdown",
      "metadata": {
        "id": "ipFQyCjuYMZb"
      },
      "source": [
        "Par la suite, puisqu'il était prévu de simuler plusieurs potentiels différents, une fonction `potentiel_param` a été créée afin d'implémenter facillement les paramètres des différents potentiels étudiés. Cette fonction utilise donc un dictionnaire pour associer la forme de 6 types de potentiel à un nom. Donc, en fonction du nom de potentiel donné à la fonction, un `numpy array` est créé avec les bons paramètres pour celui-ci. Deux de ces paramètres sont les ordres de grandeur du pas de temps et du potentiel. Ceux-ci sont calculés de façon à permettre un affichage pertinent lors de la génération de graphique. Un des arguments optionnels que la fonction prend en entrée est `boite` qui est un booléen qui, si posé à True, permet d'ajouter au potentiel choisi un potentiel très élevé à quelques des premiers et derniers éléments de façon à s'assurer que la particule soit confinnée dans la région d'intéret si désiré."
      ]
    },
    {
      "cell_type": "code",
      "execution_count": 4,
      "metadata": {
        "id": "R4whKLDqLX1M"
      },
      "outputs": [],
      "source": [
        "def potentiel_param(par=Param(), nom_pot='potentiel nul', prop=0, boite=False,\n",
        "                    hmax=1, hmin=0):\n",
        "    \"\"\" Calcule les ordres de grandeur voulu \n",
        "                            pour le pas de temps et le potentiel \"\"\"\n",
        "    # Calcul de l'ordre de grandeur adéquat du pas de temps\n",
        "    ordre_t = cte.hbar * np.max(par.k**2) / (0.2 * cte.m_e * par.nb)\n",
        "    \n",
        "    # Calcul de l'ordre de grandeur adéquat du potentiel\n",
        "    ordre_v = cte.hbar*ordre_t*hmax\n",
        "    \n",
        "    # Initialisation de différents potentiels\n",
        "    pot_nul, pot_const = np.zeros(par.nb), np.ones(par.nb)\n",
        "    pot_quad = par.x**2*3e20/ordre_v\n",
        "    pot_marche = np.round(np.linspace(0, 0.8, par.nb))\n",
        "    pot_carre = np.round(np.abs(np.linspace(-1, 1, par.nb)))\n",
        "    pot_bar = np.round(np.abs(np.linspace(-1, 1, par.nb))-0.503)*-1\n",
        "\n",
        "    # Dictionnaire des array pour certains potentiels\n",
        "    dict_potentiel = {'potentiel nul': pot_nul,\n",
        "              'potentiel constant': pot_const,\n",
        "              'potentiel quadratique' : pot_quad,\n",
        "              'potentiel carre' : pot_carre, \n",
        "              'potentiel marche': pot_marche,\n",
        "              'potentiel barriere' : pot_bar*10}\n",
        "    \n",
        "    # Array des paramètres du système en fonction du potentiel choisi\n",
        "    params = np.array([ordre_t, ordre_v*dict_potentiel[nom_pot],\n",
        "                    prop * 2e12 * par.nb/5e2, 0, par.precision], dtype=object)\n",
        "\n",
        "    # Ajoute un potentiel 'infini' sur le contour de façon à former\n",
        "    #       une boite de potentiel si désiré\n",
        "    if boite:\n",
        "        params[1][np.append(np.array(range(int(par.nb*0.05))),\n",
        "                -1*np.array(range(int(par.nb*0.05)+1))[1:])] = 1e200*ordre_v\n",
        "    return list(np.append(params, np.array(ordre_v)))"
      ]
    },
    {
      "attachments": {},
      "cell_type": "markdown",
      "metadata": {
        "id": "EoFvfl5Keoni"
      },
      "source": [
        "Pour le calcul de la méthode pseudo-spectral en une dimension, une classe `Operateurs` est créée afin d'initialiser un objet avec des opérateurs d'énergie cinétique et d'énergie potentielle sous forme de matrice nulle. La classe initialise aussi une matrice nulle associée à la fonction d'onde.\n",
        "\n",
        "Ensuite, une fonction `init_1D` permet de prendre un objet de la classe `Operateurs` et de calculer la valeur des deux opérateurs d'énergie et de la fonction d'onde à partir des conditions intiales du système données en entrée par un objet de la classe `Param`."
      ]
    },
    {
      "cell_type": "code",
      "execution_count": 5,
      "metadata": {
        "id": "ObQejQ6JT_96"
      },
      "outputs": [],
      "source": [
        "class Operateurs:\n",
        "    \"\"\" Initialise des opérateurs en une dimension pour l'énergie potentielle, \n",
        "         l'énergie cinétique et la fonction d'onde \"\"\"\n",
        "    def __init__(self, nb):\n",
        "        self.Er = np.zeros(nb, dtype=complex)\n",
        "        self.Ep = np.zeros(nb, dtype=complex)\n",
        "        self.fc_onde = np.zeros(nb, dtype=complex)\n",
        "\n",
        "def init_1D(par, potentiel, m=cte.m_e):\n",
        "    \"\"\" Calcul les opérateurs selon les conditions initiales du système pour\n",
        "                  un potentiel donné et les attribue à un object Operateurs\"\"\"\n",
        "    dt = par.dt/par.precision\n",
        "    opr = Operateurs(par.nb)\n",
        "    opr.fc_onde = ((1/(2*np.pi*par.largeur**2)**(1/4))*\n",
        "                np.exp(1j*par.k0*par.x - (par.x-par.x0)**2/(4*par.largeur**2)))\n",
        "    opr.Er = np.exp(-1j * potentiel * dt / (2 * cte.hbar))\n",
        "    opr.Ep = np.exp(-1j * cte.hbar * par.k**2 * dt / (2*m))\n",
        "    return opr"
      ]
    },
    {
      "attachments": {},
      "cell_type": "markdown",
      "metadata": {
        "id": "nshjriyBjoDT"
      },
      "source": [
        "Une fois que la fonction d'onde initiale est calculée, ainsi que les deux opérateurs d'énergie, la fonction `separation_operateurs` applique la méthode pseudo-spectrale pour calculer la propagation temporelle pour un pas de temps avec un précision `par.precision`."
      ]
    },
    {
      "cell_type": "code",
      "execution_count": 6,
      "metadata": {
        "id": "w6y2KJWcjnQm"
      },
      "outputs": [],
      "source": [
        "def separation_operateurs(par, opr):\n",
        "    \"\"\" Calcule la fonction d'onde par la méthode pseudo-spectral à répétition \n",
        "                                          selon la précision donnée \"\"\"\n",
        "    for _ in range(par.precision):\n",
        "        opr.fc_onde = ifft(fft(opr.fc_onde * opr.Er) * opr.Ep) * opr.Er\n",
        "    return opr.fc_onde"
      ]
    },
    {
      "attachments": {},
      "cell_type": "markdown",
      "metadata": {
        "id": "cdoKR621mk7v"
      },
      "source": [
        "Maintenant que toutes les fonctions et classes nécessaires pour l'implémentation numérique de la méthode pseudo-spectrale sont définies, il est possible de tester la méthode avec des exemples. \n",
        "\n",
        "Pour ce faire, une fonction d'affichage de graphique `graphique_1D` et une fonction de sauvegarde de ces graphiques `graphique_1Dsave` ont été créées. La première fonction prend en entrée la fonction d'onde et le potentiel puis affiche la partie réelle, imaginaire et la densité de probabilité de la fonction d'onde dans un graphique. En plus, celle-ci représente la forme du potentiel. La seconde fonction appelle la première pour faire la même chose mais à la place d'afficher les figures elle les enregistre en png."
      ]
    },
    {
      "cell_type": "code",
      "execution_count": 7,
      "metadata": {
        "id": "yP5K_LA4Zt-r"
      },
      "outputs": [],
      "source": [
        "def graphique_1D(par, solution, potentiel, iter, norm=1):\n",
        "    \"\"\" Affiche le graphique de la fonction d'onde et \n",
        "                                de la densité de probabilité en 1D \"\"\"\n",
        "    # Graphique de la densité de probabilité\n",
        "    plt.plot(par.x, (np.sqrt(np.conj(solution)*solution).real)/norm, c=cblue,\n",
        "          linewidth=2, zorder=10, label='Densité')\n",
        "    # Graphique de la partie réelle de la fonction d'onde\n",
        "    plt.plot(par.x, np.real(solution)/norm, c='red', linewidth=1,\n",
        "             label='Réelle')\n",
        "    # Graphique de la partie imaginaire de la fonction d'onde\n",
        "    plt.plot(par.x, np.imag(solution)/norm, c='limegreen', linewidth=1,\n",
        "             label='Imaginaire', zorder=5)\n",
        "    \n",
        "    # Affichage de la forme du potentiel par dessus les autres fonctions\n",
        "    potentiel[potentiel!=0] = 1\n",
        "    plt.plot(par.x, potentiel, c='black')\n",
        "\n",
        "    # Paramètres d'affichage\n",
        "    plt.xlabel('$%s$' %r'x [m]')\n",
        "    plt.ylabel('Densité normalisée ' + '$%s$' %r'\\sqrt{\\psi(x, t)*\\psi(x, t)}')\n",
        "    plt.xlim(-par.xmax, par.xmax)\n",
        "    plt.ylim(-1, 1)\n",
        "    plt.xticks([-a0, -a0/2, 0, a0/2, a0], ['$%s$' %r'-a_0',\n",
        "                      '$%s$' %r'\\frac{-a_0}{2}', 0,\n",
        "                       '$%s$' %r'\\frac{a_0}{2}', '$%s$' %r'a_0'])\n",
        "    plt.legend(loc='lower left', fontsize=13)\n",
        "    plt.tick_params(direction='in')\n",
        "    plt.twinx()\n",
        "    plt.yticks([-1, -0.75, -0.5, -0.25, 0, 0.25, 0.5, 0.75, 1])\n",
        "    plt.tick_params(direction='in')\n",
        "    plt.ylabel(\"Amplitude normalisée \" + '$%s$' %r'\\psi(x, t)')\n",
        "    plt.annotate('t = {:g} s'.format(float('{:.4g}'.format(par.dt*iter))),\n",
        "                                                            (2.8e-11, 0.9))"
      ]
    },
    {
      "cell_type": "code",
      "execution_count": 8,
      "metadata": {
        "id": "K95YMgOBOd3f"
      },
      "outputs": [],
      "source": [
        "def graphique_1Dsave(par, solution, potentiel, iter, norm):\n",
        "    \"\"\" Génère et sauvegarde les images pour les vidéos \"\"\"\n",
        "    plt.figure(figsize=(12, 6), dpi=120)\n",
        "    plt.xlim(-0.4, 0.4)\n",
        "    graphique_1D(par, solution, potentiel, iter, norm)\n",
        "    plt.savefig(f\"figure{iter}.png\")\n",
        "    plt.clf()"
      ]
    },
    {
      "attachments": {},
      "cell_type": "markdown",
      "metadata": {
        "id": "dwKWtXMvohAJ"
      },
      "source": [
        "Avec les fonctions qui permettent d'afficher les graphiques, il est possible de faire les calculs de la méthode pseudo-spectrale pour un contexte quelconque avec la fonction `graph_test` qui prend en argument les conditions initiales sous forme d'un objet de la classe `Param`, le potentiel et le nombre de pas de temps désiré."
      ]
    },
    {
      "cell_type": "code",
      "execution_count": 9,
      "metadata": {
        "id": "VDVbFtzw2T6l"
      },
      "outputs": [],
      "source": [
        "def graph_test(par, step, potentiel):\n",
        "    \"\"\" Calcule et affiche la fonction d'onde pour calibrer \n",
        "                    les paramètres avant de générer une vidéo \"\"\"\n",
        "    plt.figure(figsize=(10, 6), dpi=120)\n",
        "\n",
        "    # initialise les objets pour les différents opérateurs \n",
        "    #                                       aux conditions initiales\n",
        "    opr = init_1D(par, potentiel)\n",
        "    # Facteur de normalisation pour la densité de probabilité\n",
        "    norme = np.max(np.sqrt((np.conj(opr.fc_onde)*opr.fc_onde).real))\n",
        "\n",
        "    # Calcule et affiche la fonction d'onde pour le nombre de pas demandé\n",
        "    graphique_1D(par, opr.fc_onde, potentiel, 0, 2*norme)\n",
        "    for i in range(1, step):\n",
        "          solution = separation_operateurs(par, opr)\n",
        "          if i>step-2:\n",
        "              graphique_1D(par, solution, potentiel, i, 2*norme)\n",
        "    plt.show()"
      ]
    },
    {
      "attachments": {},
      "cell_type": "markdown",
      "metadata": {
        "id": "J9xgmyodu5lo"
      },
      "source": [
        "En affichant le graphique de la propagation avec la fonction `graph_test` il est possible d'ajuster les différents paramètres pour obtenir des conditions initiales qui vont permettre de bien représenter la propagation temporelle dans une vidéo. Celle-ci peut être faite par la fonction `video_simulation` qui fonctionne de la même façon que `graph_test`, mais qui enregistre les graphiques et en fait une vidéo à la place de les afficher.\n"
      ]
    },
    {
      "cell_type": "code",
      "execution_count": 10,
      "metadata": {
        "id": "75Yd3mEVLt4m"
      },
      "outputs": [],
      "source": [
        "def video_simulation(par, potentiel, frame=50, fps=5, file_name='Simulation'):\n",
        "    \"\"\" Génère un vidéo de l'évolution de la fonction d'onde et de\n",
        "                                 la densité de probabilité dans le temps \"\"\"\n",
        "    # initialise les objets pour les différents opérateurs \n",
        "    #                                       aux conditions initiales\n",
        "    opr = init_1D(par, potentiel)\n",
        "\n",
        "    # Facteur de normalisation pour la densité de probabilité\n",
        "    norm = np.max((np.conj(opr.fc_onde)*opr.fc_onde).real**0.5)\n",
        "\n",
        "    # Calcule et enregistre le graphique de chaque pas de temps\n",
        "    graphique_1Dsave(par, opr.fc_onde, potentiel, 0, 2*norm)\n",
        "    for i in range(1, frame):\n",
        "        solution = separation_operateurs(par, opr)\n",
        "        graphique_1Dsave(par, solution, potentiel, i, 2*norm)\n",
        "    \n",
        "    # Convertir les images en une vidéo\n",
        "    image_files = [f\"figure{i}.png\" for i in range(frame)]\n",
        "    images = [imageio.v2.imread(file) for file in image_files]\n",
        "    clip = ImageSequenceClip(images, fps=fps)\n",
        "    clip.write_videofile(f\"{file_name}.mp4\")\n",
        "    # Supprimer les images dans le dossier pour conserver que la vidéo\n",
        "    for i in range(frame):\n",
        "        os.remove(f\"figure{i}.png\")"
      ]
    },
    {
      "attachments": {},
      "cell_type": "markdown",
      "metadata": {
        "id": "FUs5fpv61454"
      },
      "source": [
        "Un exemple de test de graphique pour un potentiel carré en 1D est visible ici si le False est remplacé par True."
      ]
    },
    {
      "cell_type": "code",
      "execution_count": 11,
      "metadata": {
        "id": "SyTZYDbAKqpj"
      },
      "outputs": [],
      "source": [
        "# Graphique de calibration d'unu potentiel carré en 1D\n",
        "if False:\n",
        "    par = Param(nb=500, precision=50)\n",
        "    dt, potentiel, par.k0, par.x0, par.precision, ordre_v = potentiel_param(par, \n",
        "                                        'potentiel carre', prop=5, boite=False)\n",
        "    par.dt=1/dt\n",
        "    graph_test(par, 1, potentiel*1e20)"
      ]
    },
    {
      "attachments": {},
      "cell_type": "markdown",
      "metadata": {
        "id": "_X5QYXkv19xU"
      },
      "source": [
        "Un exemple création de vidéo est visible ici si le False est remplacé par True."
      ]
    },
    {
      "cell_type": "code",
      "execution_count": 12,
      "metadata": {
        "id": "jk69kK4f86K7"
      },
      "outputs": [],
      "source": [
        "# Génère une vidéo pour un potentiel carré en 1D\n",
        "if False:\n",
        "    par = Param(nb=500, precision=50)\n",
        "    dt, potentiel, par.k0, par.x0, par.precision, ordre_v= potentiel_param(par,\n",
        "                                        'potentiel carre', prop=3, boite=False)\n",
        "    par.dt = 0.1/dt\n",
        "    video_simulation(par, potentiel, frame = 60, fps=40,\n",
        "                          file_name='Simulation_Potentiel_nul(k0)')"
      ]
    },
    {
      "attachments": {},
      "cell_type": "markdown",
      "metadata": {
        "id": "fVPH-xkONtbs"
      },
      "source": [
        "## 2. Bidimensionnel\n",
        "La condition initiale du paquet d'onde en deux dimensions $\\psi(x, y, 0)$ peut être décrite par la relation suivante:\n",
        "\\begin{equation}\n",
        "    \\psi(x,y,0) = \\left[\\frac{1}{2\\pi(\\Delta x)^2(\\Delta y)^2}\\right]^{1/4}\\text{exp}\\left({ik_{x0}x + ik_{y0}y - \\frac{(x-x_0)^2}{4(\\Delta x)^2}- \\frac{(y-y_0)^2}{4(\\Delta y)^2}}\\right)\n",
        "\\end{equation}\n",
        "\n",
        "\\begin{equation}\n",
        "\\psi(x,y,t) \\approx e^{-i\\mathbf{\\hat{V}}\\Delta t/2\\hbar}\\mathcal{F}^{-1}\\left[e^{-iT(k)\\Delta t/\\hbar}\\mathcal{F}\\left[e^{-i\\mathbf{\\hat{V}}\\Delta t/2\\hbar}\\psi(x, y,t_0)\\right]\\right]\n",
        "\\end{equation}"
      ]
    },
    {
      "attachments": {},
      "cell_type": "markdown",
      "metadata": {
        "id": "UJqYF3Qv2AzH"
      },
      "source": [
        "Pour le calcul de la méthode pseudo-spectrale en 2D, il est possible de former des potentiels symétriques en deux dimensions à partir des potentiels définis plus tôt dans la fonction `potentiel_param` en 1D. Il est aussi possible d'utiliser d'autres formes de potentiel en 2D qui ne sont pas symétriques. Afin de pouvoir représenter n'importe quel potentiel, la fonction `contour_image` prend en entrée une image et la représente sous forme d'une matrice 2D de 1 et de 0. Ou l'extérieur de l'object dans l'image est rempli de 1 et l'intérieur de 0. Celle-ci détecte essentiellement le plus grand contour de l'image fournie."
      ]
    },
    {
      "cell_type": "code",
      "execution_count": 13,
      "metadata": {
        "id": "Bwmor8lKTYKG"
      },
      "outputs": [],
      "source": [
        "def contour_image(direction_du_fichier, puissance_gaussienne=5):\n",
        "    #Télécharge l'image en array, le 0 indique qu'elle est en grayscale\n",
        "    image_grise_originale = cv2.imread(direction_du_fichier, 0) \n",
        "\n",
        "    #Convolution avec des gaussiennes pour faciliter la détection des contours\n",
        "    image = cv2.GaussianBlur(image_grise_originale.copy(), (5,5), 0) \n",
        "\n",
        "    # Applique d'autres convolutions avec des gaussiennes,\n",
        "    #    chaque convolution réduit le bruit autour du contour,\n",
        "    #        mais enlève des détails du contour\n",
        "    for n in range(puissance_gaussienne): \n",
        "        image = cv2.GaussianBlur(image, (5,5), 0)\n",
        "    \n",
        "    # Détecte en regardant la moyenne des greyscale de la première ligne\n",
        "    #    si le fond est plutôt blanc ou noir. \n",
        "    #      S'il est noir, le grey scale est inversé pour que le fond soit noir\n",
        "    if image[0].mean()>100:         \n",
        "        image = cv2.bitwise_not(image)\n",
        "    \n",
        "    # Trouve les contours dans l'image\n",
        "    contours, hierarchie = cv2.findContours(image, cv2.RETR_EXTERNAL,\n",
        "                                            cv2.CHAIN_APPROX_NONE) \n",
        "    \n",
        "    # Classe les contours de la plus grande à la plus petite aire\n",
        "    contours = sorted(contours, key=cv2.contourArea)[::-1] \n",
        "\n",
        "    # Remplis tous les contours de noir\n",
        "    cv2.fillPoly(image, contours, color=(0,0,0)) \n",
        "\n",
        "    # Remplis uniquement le contour avec la plus grande aire de blanc\n",
        "    cv2.fillPoly(image, [contours[0]], color=(255, 255, 255)) \n",
        "\n",
        "    # Transforme tous les pixels qui ne sont pas purement blanc en noir,\n",
        "    #       la matrice retournée contient donc uniquement des 0 et des 255\n",
        "    _, image_binaire = cv2.threshold(image, 254, 255, cv2.THRESH_BINARY) \n",
        "\n",
        "    # Divise par 255 la matrice afin de retourner une matrice de 0 et de 1\n",
        "    #                                          ayant la forme du potentiel\n",
        "    return cv2.bitwise_not(image_binaire)/255 "
      ]
    },
    {
      "attachments": {},
      "cell_type": "markdown",
      "metadata": {
        "id": "T6PgfcYX6HsX"
      },
      "source": [
        "Pour le calcul de la méthode pseudo-spectrale en deux dimension, une classe `Operateurs2D` est créée de la même façon qu'en 1D mais initialise des matrices 2D à la place.\n",
        "\n",
        "Ensuite, une fonction `init_2D` permet de prendre un objet de la classe `Operateurs2D` et de calculer la veleur des opérateurs et de la fonction d'onde en 2D de la même façon que `init_1D`."
      ]
    },
    {
      "cell_type": "code",
      "execution_count": 14,
      "metadata": {
        "id": "2IfTsIp2i9eD"
      },
      "outputs": [],
      "source": [
        "class Operateurs2D:\n",
        "    \"\"\" Initialise des opérateurs en deux dimensions pour l'énergie potentielle, \n",
        "         l'énergie cinétique et la fonction d'onde \"\"\"\n",
        "    def __init__(self, nb_x, nb_y):\n",
        "        self.Er = np.zeros((nb_y, nb_x), dtype=complex)\n",
        "        self.Ep = np.zeros((nb_y, nb_x), dtype=complex)\n",
        "        self.fc_onde = np.zeros((nb_y, nb_x), dtype=complex)\n",
        "\n",
        "def init_2D(parx, pary, potentiel, m=cte.m_e):\n",
        "    \"\"\" Calcul les opérateurs selon les conditions initiales du système pour\n",
        "                  un potentiel donné et les attribuent à un object Operateurs\"\"\"\n",
        "    dt = parx.dt/parx.precision\n",
        "    #dt = 1/max(parx.dt, pary.dt)\n",
        "    opr2d = Operateurs2D(parx.nb, pary.nb)\n",
        "    mat_xx, mat_yy = np.meshgrid(parx.x, pary.x)\n",
        "    opr2d.fc_onde = ((1/(2*np.pi*parx.largeur**2*pary.largeur**2)**(1/4)) \n",
        "                    *np.exp(1j*parx.k0*mat_xx+1j*pary.k0*mat_yy - \n",
        "                            (mat_xx-parx.x0)**2/(4*parx.largeur**2) - \n",
        "                            (mat_yy-pary.x0)**2/(4*pary.largeur**2)))\n",
        "    k_xx, k_yy = np.meshgrid(parx.k, pary.k)\n",
        "    k_2D = np.sqrt(k_xx**2+k_yy**2)\n",
        "    opr2d.Er = np.exp(-1j * potentiel * dt / (2 * cte.hbar))\n",
        "    opr2d.Ep = np.exp(-1j * cte.hbar * np.power(k_2D, 2) * dt / (2*m))\n",
        "    return opr2d"
      ]
    },
    {
      "attachments": {},
      "cell_type": "markdown",
      "metadata": {
        "id": "EC-TMqxC6JrW"
      },
      "source": [
        "Une fois que la fonction d'onde initiale est calculée, ainsi que les deux opérateurs d'énergie, la fonction `separation_operateurs2d` applique la méthode pseudo-spectrale pour calculer la propagation temporelle pour un pas de temps avec une précision `par.precision`."
      ]
    },
    {
      "cell_type": "code",
      "execution_count": 15,
      "metadata": {
        "id": "ONzcXaKO6PM9"
      },
      "outputs": [],
      "source": [
        "def separation_operateurs2d(par, opr2d):\n",
        "    \"\"\" Calcule la fonction d'onde par la méthode pseudo-spectrale à répétition \n",
        "                                          selon la précision donnée \"\"\"\n",
        "    for i in range(par.precision):\n",
        "      opr2d.fc_onde = ifft2(fft2(opr2d.fc_onde * opr2d.Er)* opr2d.Ep)* opr2d.Er\n",
        "    return opr2d.fc_onde"
      ]
    },
    {
      "attachments": {},
      "cell_type": "markdown",
      "metadata": {
        "id": "IvHVID2O6QE8"
      },
      "source": [
        "Maintenant que toutes les fonctions et classes nécessaires pour l'implémentation numérique de la méthode pseudo-spectrale en 2D sont définies, il est possible de tester la méthode avec des exemples. \n",
        "\n",
        "Pour ce faire, une fonction d'affichage de graphique `graphique_2D` et une fonction de sauvegarde de ces graphiques `graphique_2Dsave` ont été créées. Ces fonctions remplissent le même rôle que les fonctions `graphique_1D` et `graphique_1Dsave` en une dimension."
      ]
    },
    {
      "cell_type": "code",
      "execution_count": 16,
      "metadata": {
        "id": "-qbDOLuLE9BA"
      },
      "outputs": [],
      "source": [
        "\n",
        "def graphique_2D(par,fig, solution, dens_prob,potentiel, iter, norm):\n",
        "    \"\"\" Affiche le graphique de la fonction d'onde et \n",
        "                                     de la densité de probabilité en 2D \"\"\"\n",
        "    fig.suptitle(\"Amplitude normalisée \" + '$%s$' %r'\\psi(x, y, t)')\n",
        "\n",
        "    # Graphique de la densité de probabilité\n",
        "    gn = plt.imshow(dens_prob/norm, vmin=0, alpha = 0.90,\n",
        "                    vmax=1, cmap=mymap)\n",
        "    \n",
        "    # Normalise le potentiel\n",
        "    potentiel[potentiel!=0] = 1\n",
        "\n",
        "    # Affichage de la forme du potentiel par dessus la densité\n",
        "    plt.imshow(potentiel.real, alpha=0.45, cmap=cmap_trans)\n",
        "\n",
        "    # Paramètres d'affichage\n",
        "    plt.tick_params(direction='in')\n",
        "    plt.xlabel('$%s$' %r'x [m]')\n",
        "    plt.ylabel('$%s$' %r'y [m]')\n",
        "    # plt.xticks([0, par.nb/4, par.nb/2, 3*par.nb/4, par.nb],\n",
        "    #                    ['$%s$' %r'-a_0', '$%s$' %r'\\frac{-a_0}{2}', 0,\n",
        "    #                    '$%s$' %r'\\frac{a_0}{2}', '$%s$' %r'a_0'])\n",
        "    # plt.yticks([0, par.nb/4, par.nb/2, 3*par.nb/4, par.nb],\n",
        "    #                 ['$%s$' %r'-a_0', '$%s$' %r'\\frac{-a_0}{2}', 0,\n",
        "    #                    '$%s$' %r'\\frac{a_0}{2}', '$%s$' %r'a_0'])\n",
        "    # plt.tick_params(pad = 7)\n",
        "    norm = mcolors.Normalize(vmin=0, vmax=1)\n",
        "    scalar_map = plt.cm.ScalarMappable(norm=norm, cmap=mymap)\n",
        "    cax = [0.0, 0.2, 0.4, 0.4, 0.6, 0.8, 1.0]\n",
        "    fig.colorbar(scalar_map, ticks=cax)#, location='bottom'\n",
        "    plt.annotate('t = {:g} s'.format(float('{:.4g}'.format(par.dt*iter)))+ '\\n',\n",
        "                 (0.3*par.nb, 0.05*par.nb))#-0.1*par.nb"
      ]
    },
    {
      "cell_type": "code",
      "execution_count": 17,
      "metadata": {
        "id": "exKELkmRyZA7"
      },
      "outputs": [],
      "source": [
        "def graphique_2Dsave(par,solution, dens_prop, potentiel, iter, norm):\n",
        "    \"\"\" Génère et sauvegarde les images pour les vidéo \"\"\"\n",
        "    fig = plt.figure(figsize=(10, 6), dpi=150)\n",
        "    graphique_2D(par,fig, solution, dens_prop, potentiel, iter, norm)\n",
        "    plt.savefig(f\"figure{iter}.png\")\n",
        "    plt.clf()"
      ]
    },
    {
      "attachments": {},
      "cell_type": "markdown",
      "metadata": {
        "id": "h4ZrwXLu6fXX"
      },
      "source": [
        "Avec les fonctions qui permettent d'afficher les graphiques, il est possible de faire les calculs de la méthode pseudo-spectrale pour un contexte quelconque avec la fonction `graph_test2D` sur le même principe qu'en une dimension."
      ]
    },
    {
      "cell_type": "code",
      "execution_count": 18,
      "metadata": {
        "id": "l5NyhHBcFHqX"
      },
      "outputs": [],
      "source": [
        "def graph_test_2D(parx, pary, potentiel, potentiely, step=1):\n",
        "    \"\"\" Calcule et affiche la densité de probabilité pour calibrer \n",
        "                    les paramètres avant de générer une vidéo \"\"\"\n",
        "    fig = plt.figure(figsize=(10, 6), dpi=150)\n",
        "    \n",
        "    # Détermine si le calcul peut être fait par une combinaison de calcul\n",
        "    #  en 1D pour x et y (beaucoup plus rapide) ou si le calcul doit être fait \n",
        "    #                                  en 2D du à un potentiel asymétrique\n",
        "    if type(potentiely) is int:\n",
        "        # Méthode matricielle en 2D\n",
        "        opr = init_2D(parx, pary, potentiel)\n",
        "        solutionxy = opr.fc_onde\n",
        "    else:\n",
        "        # Méthode de combinaision de 1D en cas de symétrie\n",
        "        oprx, opry = init_1D(parx, potentiel), init_1D(pary, potentiely)\n",
        "        repx, repy = np.meshgrid(oprx.fc_onde, opry.fc_onde)\n",
        "        solutionxy = np.sqrt(repx*repy)\n",
        "        potx, poty = np.meshgrid(potentiel, potentiely)\n",
        "        potentiel = (potx+poty)\n",
        "    \n",
        "    # Calcule la densité de probabilité\n",
        "    densite_prob = np.sqrt((np.conj(solutionxy)*solutionxy).real)\n",
        "\n",
        "    # Facteur de normalisation\n",
        "    norm = np.max(densite_prob)\n",
        "\n",
        "    # Affichage du graphique initial si le pas est de 1\n",
        "    if step == 1: \n",
        "        graphique_2D(parx, fig, solutionxy, densite_prob, potentiel, 0, norm)\n",
        "    \n",
        "    # Calcule et affichage des graphiques pour le pas demandé\n",
        "    for i in range(1, step):\n",
        "        # Détermine si le calcul peut être fait par un combinaison de calcul\n",
        "        #  en 1D pour x et y (beaucoup plus rapide) ou si le calcul doit \n",
        "        #                      être fait en 2D du à un potentiel asymétrique\n",
        "        if type(potentiely) is int:\n",
        "            # Méthode matricielle en 2D\n",
        "            solutionxy = separation_operateurs2d(parx, opr)\n",
        "        else:\n",
        "            # Méthode de combinaision de 1D en cas de symétrie\n",
        "            solutionx = separation_operateurs(parx, oprx)\n",
        "            solutiony = separation_operateurs(pary, opry)\n",
        "            repx, repy = np.meshgrid(solutionx, solutiony)\n",
        "            solutionxy = np.sqrt(repx*repy)\n",
        "        \n",
        "        # Calcule la densité de probabilité\n",
        "        densite_prob = np.sqrt((np.conj(solutionxy)*solutionxy).real)\n",
        "\n",
        "        # Affiche le dernier graphique calculé pour ajuster les conditions\n",
        "        #                                                       initiales\n",
        "        if i>step-2:\n",
        "            graphique_2D(parx,fig, solutionxy, densite_prob, potentiel, 0, norm)\n",
        "    plt.show()"
      ]
    },
    {
      "attachments": {},
      "cell_type": "markdown",
      "metadata": {
        "id": "R34yJgJr6Ylr"
      },
      "source": [
        "En affichant le graphique de la propagation avec la fonction `graph_test2D`, il est possible d'ajuster les différents paramètres pour obtenir des conditions initiales qui vont permettre de bien représenter la propagation temporelle dans une vidéo. Celle-ci peut être faite par la fonction `video_simulation2D` qui fonctionne de la même façon que `graph_test2D`, mais qui enregistre les graphiques et en fait un vidéo à la place de les afficher.\n"
      ]
    },
    {
      "cell_type": "code",
      "execution_count": 19,
      "metadata": {
        "id": "bdEjMnt7yQVN"
      },
      "outputs": [],
      "source": [
        "def video_simulation2D(parx, pary, potentiel, potentiely,\n",
        "                               allframe=1, fps=60, file_name='Simulation'):\n",
        "    \"\"\" Génère un vidéo de l'évolution de la densité de probabilité\n",
        "                                                          dans le temps \"\"\"\n",
        "    \n",
        "    # Détermine si le calcul peut être fait par une combinaison de calcul\n",
        "    #  en 1D pour x et y (beaucoup plus rapide) ou si le calcul doit être fait \n",
        "    #                                  en 2D du à un potentiel asymétrique\n",
        "    if type(potentiely) is int:\n",
        "        # Méthode matricielle en 2D\n",
        "        opr = init_2D(parx, pary, potentiel)\n",
        "        solutionxy = opr.fc_onde\n",
        "    else :\n",
        "        # Méthode de combinaision de 1D en cas de symétrie\n",
        "        oprx, opry = init_1D(parx, potentiel), init_1D(pary, potentiely)\n",
        "        repx, repy = np.meshgrid(oprx.fc_onde, opry.fc_onde)\n",
        "        solutionxy = np.sqrt(repx*repy)\n",
        "        potx, poty = np.meshgrid(potentiel, potentiely)\n",
        "        potentiel = (potx+poty)\n",
        "    \n",
        "    # Calcule la densité de probabilité\n",
        "    densite_prob = np.sqrt((np.conj(solutionxy)*solutionxy).real)\n",
        "\n",
        "    # Facteur de normalisation\n",
        "    norm = np.max(densite_prob)\n",
        "\n",
        "    # Calcule et enregistre les graphiques pour chaque pas demandé\n",
        "    graphique_2Dsave(parx, solutionxy, densite_prob, potentiel, 0, norm)\n",
        "    for frame in range(1, allframe):\n",
        "        # Détermine si le calcul peut être fait par une combinaison de calcul\n",
        "        #      en 1D pour x et y (beaucoup plus rapide) ou si le calcul doit\n",
        "        #                       être fait en 2D du à un potentiel asymétrique\n",
        "        if type(potentiely) is int:\n",
        "            # Méthode matricielle en 2D\n",
        "            solutionxy = separation_operateurs2d(parx, opr)\n",
        "        else:\n",
        "            # Méthode de combinaision de 1D en cas de symétrie\n",
        "            solutionx = separation_operateurs(parx, oprx)\n",
        "            solutiony = separation_operateurs(pary, opry)\n",
        "            repx, repy = np.meshgrid(solutionx, solutiony)\n",
        "            solutionxy = np.sqrt(repx*repy)\n",
        "        \n",
        "        # Calcul la densité de probabilité\n",
        "        densite_prob = np.sqrt((np.conj(solutionxy)*solutionxy).real)\n",
        "        # Génère et enregistre le graphique de la densité de probabilité\n",
        "        graphique_2Dsave(parx, solutionxy, densite_prob, potentiel, frame, norm)\n",
        "\n",
        "    # Convertir les images en une vidéo\n",
        "    image_files = [f\"figure{frame}.png\" for frame in range(allframe)]\n",
        "    images = [imageio.v2.imread(file) for file in image_files]\n",
        "    clip = ImageSequenceClip(images, fps=fps)\n",
        "    clip.write_videofile(f\"{file_name}.mp4\")\n",
        "\n",
        "    # Supprimer les images dans le dossier pour conserver que la vidéo\n",
        "    for frame in range(allframe):\n",
        "        os.remove(f\"figure{frame}.png\")"
      ]
    },
    {
      "attachments": {},
      "cell_type": "markdown",
      "metadata": {
        "id": "pj0lt-6u7J5v"
      },
      "source": [
        "Quatres exemples de test de graphique pour différents potentiels en 2D sont visibles ici si les False sont remplacés par des True (un à la fois)."
      ]
    },
    {
      "cell_type": "code",
      "execution_count": 20,
      "metadata": {
        "id": "iv9Z14-ND_6i"
      },
      "outputs": [],
      "source": [
        "# Graphique de calibration pour un potentiel carré avec propagation\n",
        "if False: \n",
        "    parx = Param(precision = 200, nb=1400)\n",
        "    pary = Param(precision = 200, nb=1400)\n",
        "\n",
        "    par_potx = potentiel_param(parx, 'potentiel barriere', prop=6, boite=True)\n",
        "    par_poty = potentiel_param(pary, 'potentiel nul', prop=5, boite=True)\n",
        "    dtx, potentielx, parx.k0, parx.x0, parx.precision, ordre_v = par_potx\n",
        "    dty, potentiely, pary.k0, pary.x0, pary.precision, ordre_v = par_poty\n",
        "    parx.dt=1.3/np.max([dtx, dty])\n",
        "    pary.dt=1.3/np.max([dtx, dty])\n",
        "    parx.largeur *= 1.8\n",
        "    pary.largeur *= 1.8\n",
        "    parx.x0 -= parx.xmax/13\n",
        "    pary.x0 -= pary.xmax/2.5\n",
        "    graph_test_2D(parx, pary, potentielx*300, potentiely, step = 20)\n",
        "\n",
        "# Graphique de calibration pour un potentiel circulaire sans propagation\n",
        "if False: \n",
        "    parx = Param(precision = 30, nb=600)\n",
        "    pary = Param(precision = 30, nb=600)\n",
        "\n",
        "    par_potx = potentiel_param(parx, 'potentiel nul', prop=0, boite=False)\n",
        "    par_poty = potentiel_param(pary, 'potentiel nul', prop=0, boite=False)\n",
        "    dtx, potentielx, parx.k0, parx.x0, parx.precision, ordre_v = par_potx\n",
        "    dty, potentiely, pary.k0, pary.x0, pary.precision, ordre_v = par_poty\n",
        "    parx.dt=6/np.max([dtx, dty])\n",
        "    parx.largeur *= 2.5\n",
        "    pary.largeur *= 2.5\n",
        "    list_nbx = np.linspace(-1, 1, parx.nb)\n",
        "    list_nby = np.linspace(-1, 1, pary.nb)\n",
        "    mat_nbx, mat_nby = np.meshgrid(list_nbx, list_nby)\n",
        "    potentiel = np.round(np.sqrt(mat_nbx**2+mat_nby**2)-0.45)*ordre_v*1e100\n",
        "    potentiely = 0\n",
        "    graph_test_2D(parx, pary, potentiel, potentiely, step = 1)\n",
        "\n",
        "# Graphique de calibration pour un potentiel circulaire avec propagation\n",
        "if False: \n",
        "    parx = Param(precision = 35, nb=1000)\n",
        "    pary = Param(precision = 35, nb=1000)\n",
        "\n",
        "    par_potx = potentiel_param(parx, 'potentiel nul', prop=0, boite=False)\n",
        "    par_poty = potentiel_param(pary, 'potentiel nul', prop=5, boite=False)\n",
        "    dtx, potentielx, parx.k0, parx.x0, parx.precision, ordre_v = par_potx\n",
        "    dty, potentiely, pary.k0, pary.x0, pary.precision, ordre_v = par_poty\n",
        "    parx.dt=0.4/np.max([dtx, dty])\n",
        "    parx.largeur *= 1.5\n",
        "    pary.largeur *= 1.5\n",
        "    list_nbx = np.linspace(-1, 1, parx.nb)\n",
        "    list_nby = np.linspace(-1, 1, pary.nb)\n",
        "    mat_nbx, mat_nby = np.meshgrid(list_nbx, list_nby)\n",
        "    potentiel = np.round(np.sqrt(mat_nbx**2+mat_nby**2)-0.45)*ordre_v*1e300\n",
        "    potentiely = 0\n",
        "    graph_test_2D(parx, pary, potentiel, potentiely, step = 150)\n",
        "\n",
        "# Graphique de calibration pour un potentiel quelconque \n",
        "#                                           calculé à partir d'une image\n",
        "if False:\n",
        "    mat = contour_image(\"Lobster (2).png\", puissance_gaussienne=1)\n",
        "    size = np.shape(mat)\n",
        "    parx = Param(precision = 35, nb=size[1])\n",
        "    pary = Param(precision = 35, nb=size[0])\n",
        "\n",
        "    par_potx = potentiel_param(parx, 'potentiel nul', prop=-1, boite=False)\n",
        "    par_poty = potentiel_param(pary, 'potentiel nul', prop=0, boite=False)\n",
        "    dtx, potentielx, parx.k0, parx.x0, parx.precision, ordre_v = par_potx\n",
        "    dty, potentiely, pary.k0, pary.x0, pary.precision, ordre_v = par_poty\n",
        "    parx.dt=0.4/np.max([dtx, dty])\n",
        "    parx.largeur = parx.xmax/30\n",
        "    pary.largeur = pary.xmax/30\n",
        "    parx.x0 -= parx.xmax/8\n",
        "    pary.x0 += pary.xmax/12\n",
        "    potentiel = mat*ordre_v*1e300\n",
        "    potentiely = 0\n",
        "    graph_test_2D(parx, pary, potentiel, potentiely, step = 1)"
      ]
    },
    {
      "attachments": {},
      "cell_type": "markdown",
      "metadata": {
        "id": "sMuCPzlI8A24"
      },
      "source": [
        "Un exemple de création d'une vidéo pour un potentiel circulaire 2D est visible ici si le False est remplacé par True."
      ]
    },
    {
      "cell_type": "code",
      "execution_count": 21,
      "metadata": {
        "id": "sDp1yzrDI1-q"
      },
      "outputs": [],
      "source": [
        "# Génère une vidéo pour un potentiel circulaire avec propagation en 2D\n",
        "if False:\n",
        "    parx = Param(precision = 35, nb=1000)\n",
        "    pary = Param(precision = 35, nb=1000)\n",
        "    par_potx = potentiel_param(parx, 'potentiel nul', prop=0, boite=False)\n",
        "    par_poty = potentiel_param(pary, 'potentiel nul', prop=5, boite=False)\n",
        "    dtx, potentielx, parx.k0, parx.x0, parx.precision, ordre_v = par_potx\n",
        "    dty, potentiely, pary.k0, pary.x0, pary.precision, ordre_v = par_poty\n",
        "    parx.dt=0.4/np.max([dtx, dty])#100 4e-2 200 6e-2 300 1e-1\n",
        "    parx.largeur *= 1.5\n",
        "    pary.largeur *= 1.5\n",
        "    list_nbx = np.linspace(-1, 1, parx.nb)\n",
        "    list_nby = np.linspace(-1, 1, pary.nb)\n",
        "    mat_nbx, mat_nby = np.meshgrid(list_nbx, list_nby)\n",
        "    potentiel = np.round(np.sqrt(mat_nbx**2+mat_nby**2)-0.45)*ordre_v*1e300\n",
        "    potentiely = 0\n",
        "    video_simulation2D(parx, pary, potentiel, potentiely, allframe = 400,\n",
        "                                fps=25, file_name='Simulation_2D_cercle_prop')"
      ]
    }
  ],
  "metadata": {
    "colab": {
      "provenance": []
    },
    "kernelspec": {
      "display_name": "Python 3",
      "name": "python3"
    },
    "language_info": {
      "name": "python"
    }
  },
  "nbformat": 4,
  "nbformat_minor": 0
}
